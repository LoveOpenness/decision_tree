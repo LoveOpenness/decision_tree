{
 "cells": [
  {
   "cell_type": "code",
   "execution_count": 18,
   "metadata": {
    "collapsed": true
   },
   "outputs": [],
   "source": [
    "import operator\n",
    "from math import log"
   ]
  },
  {
   "cell_type": "code",
   "execution_count": 19,
   "metadata": {
    "collapsed": true
   },
   "outputs": [],
   "source": [
    "#生成数据函数\n",
    "def creatdataset():\n",
    "    dataset=[[1,1,'yes'],\n",
    "             [1,1,'yes'],\n",
    "             [1,0,'no'],\n",
    "             [0,1,'no'],\n",
    "             [0,1,'no']]\n",
    "    labels=[\"no surfacing\",\"flippers\"]\n",
    "    return dataset,labels"
   ]
  },
  {
   "cell_type": "code",
   "execution_count": 20,
   "metadata": {
    "collapsed": false
   },
   "outputs": [
    {
     "name": "stdout",
     "output_type": "stream",
     "text": [
      "[[1, 1, 'yes'], [1, 1, 'yes'], [1, 0, 'no'], [0, 1, 'no'], [0, 1, 'no']] ['no surfacing', 'flippers']\n",
      "5\n",
      "2\n"
     ]
    }
   ],
   "source": [
    "dataset,labels=creatdataset()\n",
    "print dataset,labels\n",
    "print len(dataset)\n",
    "print len(labels)"
   ]
  },
  {
   "cell_type": "code",
   "execution_count": 21,
   "metadata": {
    "collapsed": false
   },
   "outputs": [],
   "source": [
    "#创建计算香浓熵的函数\n",
    "def calcShannonEnt(dataset):\n",
    "    classcount={}\n",
    "    for featvec in dataset:\n",
    "        currentlabel = featvec[-1]\n",
    "        if currentlabel not in classcount.keys():\n",
    "            classcount[currentlabel]=0\n",
    "        classcount[currentlabel]+=1\n",
    "    ShannonEnt=0.0\n",
    "    for each in classcount:   #这里的each是classcount的键\n",
    "        p = classcount[each]/float(len(dataset))\n",
    "        ShannonEnt-=p*log(p,2)\n",
    "    return ShannonEnt            "
   ]
  },
  {
   "cell_type": "code",
   "execution_count": 22,
   "metadata": {
    "collapsed": false
   },
   "outputs": [
    {
     "name": "stdout",
     "output_type": "stream",
     "text": [
      "0.970950594455\n"
     ]
    }
   ],
   "source": [
    "#测试信息熵函数\n",
    "ShannonEnt=calcShannonEnt(dataset)\n",
    "print ShannonEnt"
   ]
  },
  {
   "cell_type": "code",
   "execution_count": 23,
   "metadata": {
    "collapsed": true
   },
   "outputs": [],
   "source": [
    "#按条件划分数据集\n",
    "def splitDataset(dataset,axis,value):   #要划分的数据集 数据集的第几个特征 按特征值的值进行划分\n",
    "    retdataset=[]\n",
    "    for featvec in dataset:\n",
    "        if featvec[axis] == value:\n",
    "            #如果符合要求，将所有符合要求的数据提取出来并减去该特征值对应的数据列\n",
    "            reducedfeatvec = featvec[:axis]\n",
    "            reducedfeatvec.extend(featvec[axis+1:])\n",
    "            retdataset.append(reducedfeatvec)\n",
    "    return retdataset\n",
    "    "
   ]
  },
  {
   "cell_type": "code",
   "execution_count": 24,
   "metadata": {
    "collapsed": false
   },
   "outputs": [
    {
     "data": {
      "text/plain": [
       "[[1, 'yes'], [1, 'yes'], [0, 'no']]"
      ]
     },
     "execution_count": 24,
     "metadata": {},
     "output_type": "execute_result"
    }
   ],
   "source": [
    "#测试划分数据集的效果\n",
    "retdataset=splitDataset(dataset,0,1)\n",
    "retdataset"
   ]
  },
  {
   "cell_type": "code",
   "execution_count": 25,
   "metadata": {
    "collapsed": true
   },
   "outputs": [],
   "source": [
    "#选择最好的特征值进行数据分割\n",
    "#按不同的特征值和特征值的值进行分割然后计算信息熵。进行排序。\n",
    "def ChooseBestFeatureToSplit(dataset):\n",
    "    numfeatures=len(dataset[0])-1   #共有几个特征属性\n",
    "    #计算分割数据之前的信息熵\n",
    "    bestFeature = -1\n",
    "    bestinfogain=0.0\n",
    "    basenonEnt=calcShannonEnt(dataset)\n",
    "    for i in range(numfeatures):\n",
    "        newEntropy=0.0\n",
    "        #遍历所有行收集所有的取值然后去重\n",
    "        featlist=[example[i] for example in dataset]\n",
    "        uniquevals=set(featlist)  #去重\n",
    "        for value in uniquevals:\n",
    "            #按特征属性和属性值分割数据集\n",
    "            retmat=splitDataset(dataset,i,value)\n",
    "            #计算新数据集占总数据集的权重\n",
    "            prob=len(retmat)/float(len(dataset))\n",
    "            newEntropy+=prob*calcShannonEnt(retmat)\n",
    "        infogain=basenonEnt-newEntropy  #计算减少的信息熵\n",
    "        if infogain>bestinfogain:\n",
    "            bestinfogain=infogain\n",
    "            bestfeature = i\n",
    "    return bestfeature  "
   ]
  },
  {
   "cell_type": "code",
   "execution_count": 26,
   "metadata": {
    "collapsed": false
   },
   "outputs": [
    {
     "name": "stdout",
     "output_type": "stream",
     "text": [
      "0\n"
     ]
    }
   ],
   "source": [
    "#检验上函数的正确性\n",
    "dataset,labels=creatdataset()\n",
    "bestfeature=ChooseBestFeatureToSplit(dataset)\n",
    "print bestfeature"
   ]
  },
  {
   "cell_type": "code",
   "execution_count": 27,
   "metadata": {
    "collapsed": true
   },
   "outputs": [],
   "source": [
    "#当消耗完所有的属性时，数据集的标签依然没有统一，这时采用多数决定的方法。\n",
    "def majorityCnt(classlist):\n",
    "    classCount = {}\n",
    "    for each in classlist:\n",
    "        if each not in classCount:\n",
    "            classCount[each]=0\n",
    "        classCount[each]+=1\n",
    "    sortedClassCount=sorted(classCount.iteritems(),key=operator.itemgetter(1),reverse=True)\n",
    "    return sortedClassCount[0][0]\n",
    "            "
   ]
  },
  {
   "cell_type": "code",
   "execution_count": 30,
   "metadata": {
    "collapsed": true
   },
   "outputs": [],
   "source": [
    "#构建决策树\n",
    "def createtree(dataset,labels):\n",
    "    #提取数据的分类标签\n",
    "    classlist = [example[-1] for example in dataset]\n",
    "    #如果所有的分类标签相同的话，那么可以停止再分\n",
    "    if len(classlist) == classlist.count(classlist[0]):\n",
    "        return classlist[0]\n",
    "    #如果消耗完所有的特征属性，类标签依然没有统一的话，采用多数决定的方法\n",
    "    if len(dataset[0])==1:\n",
    "        return majorityCnt(classlist)\n",
    "    bestFeature=ChooseBestFeatureToSplit(dataset)\n",
    "    bestFeaturelabel=labels[bestFeature]\n",
    "    myTree={bestFeaturelabel:{}}\n",
    "    del(labels[bestFeature])  #在属性列表中将已用属性删除\n",
    "    featvalues=[example[bestFeature] for example in dataset]\n",
    "    uniquevalues=set(featvalues)\n",
    "    for value in uniquevalues:\n",
    "        sublabels=labels[:]\n",
    "        myTree[bestFeature][value]=createtree(splitDataset(dataset,bestFeature,value),sublabels)\n",
    "    return myTree\n",
    "    "
   ]
  },
  {
   "cell_type": "code",
   "execution_count": 31,
   "metadata": {
    "collapsed": false
   },
   "outputs": [
    {
     "ename": "NameError",
     "evalue": "global name 'chooseBestFeatureToSplit' is not defined",
     "output_type": "error",
     "traceback": [
      "\u001b[0;31m---------------------------------------------------------------------------\u001b[0m",
      "\u001b[0;31mNameError\u001b[0m                                 Traceback (most recent call last)",
      "\u001b[0;32m<ipython-input-31-c3054f7e2d53>\u001b[0m in \u001b[0;36m<module>\u001b[0;34m()\u001b[0m\n\u001b[1;32m      1\u001b[0m \u001b[1;31m#测试决策树生成函数\u001b[0m\u001b[1;33m\u001b[0m\u001b[1;33m\u001b[0m\u001b[0m\n\u001b[0;32m----> 2\u001b[0;31m \u001b[0mmyTree\u001b[0m\u001b[1;33m=\u001b[0m\u001b[0mcreateTree\u001b[0m\u001b[1;33m(\u001b[0m\u001b[0mdataset\u001b[0m\u001b[1;33m,\u001b[0m\u001b[0mlabels\u001b[0m\u001b[1;33m)\u001b[0m\u001b[1;33m\u001b[0m\u001b[0m\n\u001b[0m",
      "\u001b[0;32m<ipython-input-15-35d1666a1fa0>\u001b[0m in \u001b[0;36mcreateTree\u001b[0;34m(dataSet, labels)\u001b[0m\n\u001b[1;32m      5\u001b[0m     \u001b[1;32mif\u001b[0m \u001b[0mlen\u001b[0m\u001b[1;33m(\u001b[0m\u001b[0mdataSet\u001b[0m\u001b[1;33m[\u001b[0m\u001b[1;36m0\u001b[0m\u001b[1;33m]\u001b[0m\u001b[1;33m)\u001b[0m \u001b[1;33m==\u001b[0m \u001b[1;36m1\u001b[0m\u001b[1;33m:\u001b[0m \u001b[1;31m#stop splitting when there are no more features in dataSet\u001b[0m\u001b[1;33m\u001b[0m\u001b[0m\n\u001b[1;32m      6\u001b[0m         \u001b[1;32mreturn\u001b[0m \u001b[0mmajorityCnt\u001b[0m\u001b[1;33m(\u001b[0m\u001b[0mclassList\u001b[0m\u001b[1;33m)\u001b[0m\u001b[1;33m\u001b[0m\u001b[0m\n\u001b[0;32m----> 7\u001b[0;31m     \u001b[0mbestFeat\u001b[0m \u001b[1;33m=\u001b[0m \u001b[0mchooseBestFeatureToSplit\u001b[0m\u001b[1;33m(\u001b[0m\u001b[0mdataSet\u001b[0m\u001b[1;33m)\u001b[0m\u001b[1;33m\u001b[0m\u001b[0m\n\u001b[0m\u001b[1;32m      8\u001b[0m     \u001b[0mbestFeatLabel\u001b[0m \u001b[1;33m=\u001b[0m \u001b[0mlabels\u001b[0m\u001b[1;33m[\u001b[0m\u001b[0mbestFeat\u001b[0m\u001b[1;33m]\u001b[0m\u001b[1;33m\u001b[0m\u001b[0m\n\u001b[1;32m      9\u001b[0m     \u001b[0mmyTree\u001b[0m \u001b[1;33m=\u001b[0m \u001b[1;33m{\u001b[0m\u001b[0mbestFeatLabel\u001b[0m\u001b[1;33m:\u001b[0m\u001b[1;33m{\u001b[0m\u001b[1;33m}\u001b[0m\u001b[1;33m}\u001b[0m\u001b[1;33m\u001b[0m\u001b[0m\n",
      "\u001b[0;31mNameError\u001b[0m: global name 'chooseBestFeatureToSplit' is not defined"
     ]
    }
   ],
   "source": [
    "#测试决策树生成函数\n",
    "myTree=createTree(dataset,labels)"
   ]
  },
  {
   "cell_type": "code",
   "execution_count": 15,
   "metadata": {
    "collapsed": true
   },
   "outputs": [],
   "source": [
    "def createTree(dataSet,labels):\n",
    "    classList = [example[-1] for example in dataSet]\n",
    "    if classList.count(classList[0]) == len(classList): \n",
    "        return classList[0]#stop splitting when all of the classes are equal\n",
    "    if len(dataSet[0]) == 1: #stop splitting when there are no more features in dataSet\n",
    "        return majorityCnt(classList)\n",
    "    bestFeat = chooseBestFeatureToSplit(dataSet)\n",
    "    bestFeatLabel = labels[bestFeat]\n",
    "    myTree = {bestFeatLabel:{}}\n",
    "    del(labels[bestFeat])\n",
    "    featValues = [example[bestFeat] for example in dataSet]\n",
    "    uniqueVals = set(featValues)\n",
    "    for value in uniqueVals:\n",
    "        subLabels = labels[:]       #copy all of labels, so trees don't mess up existing labels\n",
    "        myTree[bestFeatLabel][value] = createTree(splitDataSet(dataSet, bestFeat, value),subLabels)\n",
    "    return myTree                            \n",
    "    "
   ]
  },
  {
   "cell_type": "code",
   "execution_count": null,
   "metadata": {
    "collapsed": true
   },
   "outputs": [],
   "source": [
    "myTree=createTree"
   ]
  }
 ],
 "metadata": {
  "anaconda-cloud": {},
  "kernelspec": {
   "display_name": "Python [conda root]",
   "language": "python",
   "name": "conda-root-py"
  },
  "language_info": {
   "codemirror_mode": {
    "name": "ipython",
    "version": 2
   },
   "file_extension": ".py",
   "mimetype": "text/x-python",
   "name": "python",
   "nbconvert_exporter": "python",
   "pygments_lexer": "ipython2",
   "version": "2.7.12"
  }
 },
 "nbformat": 4,
 "nbformat_minor": 1
}
